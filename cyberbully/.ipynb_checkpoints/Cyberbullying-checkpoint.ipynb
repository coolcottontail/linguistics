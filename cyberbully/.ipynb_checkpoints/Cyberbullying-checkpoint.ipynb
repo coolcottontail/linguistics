{
 "cells": [
  {
   "cell_type": "markdown",
   "metadata": {},
   "source": [
    "# Cyberbullying Filter"
   ]
  },
  {
   "cell_type": "code",
   "execution_count": 1,
   "metadata": {
    "scrolled": true
   },
   "outputs": [],
   "source": [
    "import pandas as pd\n",
    "import os\n",
    "from wordcloud import WordCloud, STOPWORDS, ImageColorGenerator\n",
    "import matplotlib.pyplot as plt\n",
    "\n",
    "import string\n",
    "import nltk\n",
    "from nltk import word_tokenize          \n",
    "from nltk.stem import PorterStemmer\n",
    "from nltk.corpus import stopwords\n",
    "\n",
    "import emoji\n",
    "import numpy as np"
   ]
  },
  {
   "cell_type": "markdown",
   "metadata": {},
   "source": [
    "## Preparing The Data\n",
    "\n",
    "_data.csv_ is the labelled cyberbully data from http://research.cs.wisc.edu/bullying/data.html\n",
    "\n",
    "_tweets.csv_ is the raw tweet data from twitter.com."
   ]
  },
  {
   "cell_type": "code",
   "execution_count": 2,
   "metadata": {
    "scrolled": true
   },
   "outputs": [
    {
     "name": "stdout",
     "output_type": "stream",
     "text": [
      "The number of tweets in tweet.csv is  2729\n",
      "The number of tweets in data.csv is  7298\n",
      "The number of merged tweets (training set) is  2729\n",
      "The total number of tweets is  2729\n",
      "The number of bully flag tweets (flag == y) is  1109\n",
      "The number of non bullying tweets (flag == n) is  1622\n"
     ]
    }
   ],
   "source": [
    "tweet = pd.read_csv(\"tweet.csv\")\n",
    "data  = pd.read_csv(\"data.csv\")\n",
    "print(\"The number of tweets in tweet.csv is \", tweet.tweet_id.nunique())\n",
    "print(\"The number of tweets in data.csv is \", data.tweet_id.nunique())\n",
    "\n",
    "allTweets = pd.merge(tweet, data, on='tweet_id')\n",
    "print(\"The number of merged tweets (training set) is \", allTweets.tweet_id.nunique())\n",
    "\n",
    "allTweets = allTweets[['tweet_id','tweet','flag']]\n",
    "bullyTweets = allTweets.loc[allTweets[\"flag\"] == \"y\"] \n",
    "noBullyTweets = allTweets.loc[allTweets[\"flag\"] == \"n\"] \n",
    "print(\"The total number of tweets is \", allTweets.tweet_id.nunique())\n",
    "print(\"The number of bully flag tweets (flag == y) is \", bullyTweets.tweet_id.nunique())\n",
    "print(\"The number of non bullying tweets (flag == n) is \", noBullyTweets.tweet_id.nunique())"
   ]
  },
  {
   "cell_type": "markdown",
   "metadata": {},
   "source": [
    "### A Quick Sample of the Data:"
   ]
  },
  {
   "cell_type": "code",
   "execution_count": 3,
   "metadata": {
    "scrolled": true
   },
   "outputs": [
    {
     "data": {
      "text/html": [
       "<div>\n",
       "<style scoped>\n",
       "    .dataframe tbody tr th:only-of-type {\n",
       "        vertical-align: middle;\n",
       "    }\n",
       "\n",
       "    .dataframe tbody tr th {\n",
       "        vertical-align: top;\n",
       "    }\n",
       "\n",
       "    .dataframe thead th {\n",
       "        text-align: right;\n",
       "    }\n",
       "</style>\n",
       "<table border=\"1\" class=\"dataframe\">\n",
       "  <thead>\n",
       "    <tr style=\"text-align: right;\">\n",
       "      <th></th>\n",
       "      <th>tweet_id</th>\n",
       "      <th>tweet</th>\n",
       "      <th>flag</th>\n",
       "    </tr>\n",
       "  </thead>\n",
       "  <tbody>\n",
       "    <tr>\n",
       "      <th>0</th>\n",
       "      <td>108765481514708992</td>\n",
       "      <td>@Underwalt @MsShandraRae @kateplusmy8 mr. walt, stop being a bully.</td>\n",
       "      <td>y</td>\n",
       "    </tr>\n",
       "    <tr>\n",
       "      <th>2</th>\n",
       "      <td>100335301150507008</td>\n",
       "      <td>@katie_ogden @boybandslut @StephWall27 @BAMitsSHAZ @xstephhh_ I was not bullying her! She's trying to steal Jean Martyn from meee! :'( xx</td>\n",
       "      <td>y</td>\n",
       "    </tr>\n",
       "    <tr>\n",
       "      <th>3</th>\n",
       "      <td>107852102461693953</td>\n",
       "      <td>This is actually bullying , I want Wenger to watch this and fucking hold every piece of criticism that comes ! #RAGE</td>\n",
       "      <td>y</td>\n",
       "    </tr>\n",
       "    <tr>\n",
       "      <th>5</th>\n",
       "      <td>103925126613045250</td>\n",
       "      <td>@JJS1994_ stop bullying me</td>\n",
       "      <td>y</td>\n",
       "    </tr>\n",
       "    <tr>\n",
       "      <th>9</th>\n",
       "      <td>104028556509716480</td>\n",
       "      <td>@TrickyStewart Hey!(: We Are Beliebers!(: Can YouTell BIEBER To Tweet Us!(: My Friend Has Been Bullied And Needs Cheered Up!XD</td>\n",
       "      <td>y</td>\n",
       "    </tr>\n",
       "    <tr>\n",
       "      <th>10</th>\n",
       "      <td>101324602789208064</td>\n",
       "      <td>don't you get it? This is me getting rid of you. Hahaha #BULLY</td>\n",
       "      <td>y</td>\n",
       "    </tr>\n",
       "    <tr>\n",
       "      <th>14</th>\n",
       "      <td>108340745324335104</td>\n",
       "      <td>Damm I think I'm slick bully this dude always offering shit to avoid me for roasting his ass LoL</td>\n",
       "      <td>y</td>\n",
       "    </tr>\n",
       "    <tr>\n",
       "      <th>20</th>\n",
       "      <td>102903555840675840</td>\n",
       "      <td>@chelseabieber95 duuuuude. cyber bully much? I just read some of the tweets. how did it even start</td>\n",
       "      <td>y</td>\n",
       "    </tr>\n",
       "    <tr>\n",
       "      <th>27</th>\n",
       "      <td>108042149437779970</td>\n",
       "      <td>i SWEAR I HAVE THE SWEETEST BOO IN THE WORLD, WHEN WE NOT BULLYING ME &amp;lt;3</td>\n",
       "      <td>y</td>\n",
       "    </tr>\n",
       "    <tr>\n",
       "      <th>28</th>\n",
       "      <td>102533497637437441</td>\n",
       "      <td>For those keeping score at home- cousin who just had massive heart-attack is trying to bully the doctors into letting her out one day early.</td>\n",
       "      <td>y</td>\n",
       "    </tr>\n",
       "    <tr>\n",
       "      <th>31</th>\n",
       "      <td>107688644067856384</td>\n",
       "      <td>@bellathorne143 i herd that you got bullied when you was 6 years old and i feel bad,are you ok</td>\n",
       "      <td>y</td>\n",
       "    </tr>\n",
       "    <tr>\n",
       "      <th>32</th>\n",
       "      <td>101508504812138496</td>\n",
       "      <td>@rizky_yulianisa @bobyandika I can only wish the way you guys express isn't by bullying, but I really can't be picky right now. *hugs*</td>\n",
       "      <td>y</td>\n",
       "    </tr>\n",
       "    <tr>\n",
       "      <th>33</th>\n",
       "      <td>102196835317325825</td>\n",
       "      <td>@littlecbeadles Stop Bullying !!! I LOVE YOU SO MUCH,FOLLOW ME PLASE? #yesIcan 59</td>\n",
       "      <td>y</td>\n",
       "    </tr>\n",
       "    <tr>\n",
       "      <th>37</th>\n",
       "      <td>100124868628066304</td>\n",
       "      <td>@LordFIMM @bentleysbird @candida6 I unfollowed AvonSpurs a few days ago as believe he's  a cyber bully &amp; a complete cock. I stand by it.</td>\n",
       "      <td>y</td>\n",
       "    </tr>\n",
       "    <tr>\n",
       "      <th>46</th>\n",
       "      <td>103053755540447232</td>\n",
       "      <td>My 6 yo son is being bullied. It's really hard to know what to do. I'm shocked that it happens this early, this young. #canofbullies</td>\n",
       "      <td>y</td>\n",
       "    </tr>\n",
       "    <tr>\n",
       "      <th>54</th>\n",
       "      <td>102433486769627136</td>\n",
       "      <td>@thatcountenance @Lweiting she bully me :(</td>\n",
       "      <td>y</td>\n",
       "    </tr>\n",
       "    <tr>\n",
       "      <th>55</th>\n",
       "      <td>101776234794590208</td>\n",
       "      <td>rebecca black has been bullied out of school but that's what you get when you make crap songs</td>\n",
       "      <td>y</td>\n",
       "    </tr>\n",
       "    <tr>\n",
       "      <th>58</th>\n",
       "      <td>108160516131799040</td>\n",
       "      <td>@Mkaygreene is a bully</td>\n",
       "      <td>y</td>\n",
       "    </tr>\n",
       "    <tr>\n",
       "      <th>59</th>\n",
       "      <td>105946088254619648</td>\n",
       "      <td>@Rannnny_x bully!</td>\n",
       "      <td>y</td>\n",
       "    </tr>\n",
       "    <tr>\n",
       "      <th>60</th>\n",
       "      <td>104181309462683649</td>\n",
       "      <td>@jessiejofficial Whos Laughing Now Is A Great Song The Words Describe Me I Always Get Bullied @ Skool Just Like u Was Follow And Tweet Me? 1</td>\n",
       "      <td>y</td>\n",
       "    </tr>\n",
       "  </tbody>\n",
       "</table>\n",
       "</div>"
      ],
      "text/plain": [
       "              tweet_id  \\\n",
       "0   108765481514708992   \n",
       "2   100335301150507008   \n",
       "3   107852102461693953   \n",
       "5   103925126613045250   \n",
       "9   104028556509716480   \n",
       "10  101324602789208064   \n",
       "14  108340745324335104   \n",
       "20  102903555840675840   \n",
       "27  108042149437779970   \n",
       "28  102533497637437441   \n",
       "31  107688644067856384   \n",
       "32  101508504812138496   \n",
       "33  102196835317325825   \n",
       "37  100124868628066304   \n",
       "46  103053755540447232   \n",
       "54  102433486769627136   \n",
       "55  101776234794590208   \n",
       "58  108160516131799040   \n",
       "59  105946088254619648   \n",
       "60  104181309462683649   \n",
       "\n",
       "                                                                                                                                           tweet  \\\n",
       "0   @Underwalt @MsShandraRae @kateplusmy8 mr. walt, stop being a bully.                                                                            \n",
       "2   @katie_ogden @boybandslut @StephWall27 @BAMitsSHAZ @xstephhh_ I was not bullying her! She's trying to steal Jean Martyn from meee! :'( xx      \n",
       "3   This is actually bullying , I want Wenger to watch this and fucking hold every piece of criticism that comes ! #RAGE                           \n",
       "5   @JJS1994_ stop bullying me                                                                                                                     \n",
       "9   @TrickyStewart Hey!(: We Are Beliebers!(: Can YouTell BIEBER To Tweet Us!(: My Friend Has Been Bullied And Needs Cheered Up!XD                 \n",
       "10  don't you get it? This is me getting rid of you. Hahaha #BULLY                                                                                 \n",
       "14  Damm I think I'm slick bully this dude always offering shit to avoid me for roasting his ass LoL                                               \n",
       "20  @chelseabieber95 duuuuude. cyber bully much? I just read some of the tweets. how did it even start                                             \n",
       "27  i SWEAR I HAVE THE SWEETEST BOO IN THE WORLD, WHEN WE NOT BULLYING ME &lt;3                                                                    \n",
       "28  For those keeping score at home- cousin who just had massive heart-attack is trying to bully the doctors into letting her out one day early.   \n",
       "31  @bellathorne143 i herd that you got bullied when you was 6 years old and i feel bad,are you ok                                                 \n",
       "32  @rizky_yulianisa @bobyandika I can only wish the way you guys express isn't by bullying, but I really can't be picky right now. *hugs*         \n",
       "33  @littlecbeadles Stop Bullying !!! I LOVE YOU SO MUCH,FOLLOW ME PLASE? #yesIcan 59                                                              \n",
       "37  @LordFIMM @bentleysbird @candida6 I unfollowed AvonSpurs a few days ago as believe he's  a cyber bully & a complete cock. I stand by it.       \n",
       "46  My 6 yo son is being bullied. It's really hard to know what to do. I'm shocked that it happens this early, this young. #canofbullies           \n",
       "54  @thatcountenance @Lweiting she bully me :(                                                                                                     \n",
       "55  rebecca black has been bullied out of school but that's what you get when you make crap songs                                                  \n",
       "58  @Mkaygreene is a bully                                                                                                                         \n",
       "59  @Rannnny_x bully!                                                                                                                              \n",
       "60  @jessiejofficial Whos Laughing Now Is A Great Song The Words Describe Me I Always Get Bullied @ Skool Just Like u Was Follow And Tweet Me? 1   \n",
       "\n",
       "   flag  \n",
       "0   y    \n",
       "2   y    \n",
       "3   y    \n",
       "5   y    \n",
       "9   y    \n",
       "10  y    \n",
       "14  y    \n",
       "20  y    \n",
       "27  y    \n",
       "28  y    \n",
       "31  y    \n",
       "32  y    \n",
       "33  y    \n",
       "37  y    \n",
       "46  y    \n",
       "54  y    \n",
       "55  y    \n",
       "58  y    \n",
       "59  y    \n",
       "60  y    "
      ]
     },
     "execution_count": 3,
     "metadata": {},
     "output_type": "execute_result"
    }
   ],
   "source": [
    "pd.options.display.max_rows\n",
    "pd.set_option('display.max_colwidth', -1)\n",
    "bullyTweets.head(20)"
   ]
  },
  {
   "cell_type": "code",
   "execution_count": 4,
   "metadata": {
    "scrolled": true
   },
   "outputs": [
    {
     "data": {
      "text/html": [
       "<div>\n",
       "<style scoped>\n",
       "    .dataframe tbody tr th:only-of-type {\n",
       "        vertical-align: middle;\n",
       "    }\n",
       "\n",
       "    .dataframe tbody tr th {\n",
       "        vertical-align: top;\n",
       "    }\n",
       "\n",
       "    .dataframe thead th {\n",
       "        text-align: right;\n",
       "    }\n",
       "</style>\n",
       "<table border=\"1\" class=\"dataframe\">\n",
       "  <thead>\n",
       "    <tr style=\"text-align: right;\">\n",
       "      <th></th>\n",
       "      <th>tweet_id</th>\n",
       "      <th>tweet</th>\n",
       "      <th>flag</th>\n",
       "    </tr>\n",
       "  </thead>\n",
       "  <tbody>\n",
       "    <tr>\n",
       "      <th>1</th>\n",
       "      <td>100254756332769280</td>\n",
       "      <td>Paula, Kiersten and LJ's song about bullying. Great job! (Uploading more videos now.) http://fb.me/ASIm1gw1</td>\n",
       "      <td>n</td>\n",
       "    </tr>\n",
       "    <tr>\n",
       "      <th>4</th>\n",
       "      <td>106150056868061184</td>\n",
       "      <td>If I'm not happy with my classes this week, I'm gonna take the role as a bully and be an asshole. Watch out lower-classmen. It will be ugly.</td>\n",
       "      <td>n</td>\n",
       "    </tr>\n",
       "    <tr>\n",
       "      <th>6</th>\n",
       "      <td>104199536133668864</td>\n",
       "      <td>@ninjacodemonkey totally.  on one hand the retaliatory nature is pissy, on the other is great to see that bully-stick smackdown.</td>\n",
       "      <td>n</td>\n",
       "    </tr>\n",
       "    <tr>\n",
       "      <th>7</th>\n",
       "      <td>103471384973418497</td>\n",
       "      <td>@lucy_robbo yes on thur, she said she might, we'll bully in revs. I dunno I have no friends hahaha</td>\n",
       "      <td>n</td>\n",
       "    </tr>\n",
       "    <tr>\n",
       "      <th>8</th>\n",
       "      <td>101884602586636288</td>\n",
       "      <td>theres going to be bullys and ignorant people out there thats goi to spread lies about u or bully u,well DONT let it get u down</td>\n",
       "      <td>n</td>\n",
       "    </tr>\n",
       "    <tr>\n",
       "      <th>11</th>\n",
       "      <td>102779484725448704</td>\n",
       "      <td>The Bully at School Goes High Tech – Part 1: \\nThe Section of State and Local Government Law of the Am... http://t.co/DGWXoKd #slaw #law</td>\n",
       "      <td>n</td>\n",
       "    </tr>\n",
       "    <tr>\n",
       "      <th>12</th>\n",
       "      <td>104826899435491328</td>\n",
       "      <td>Follow-Up to ' Signs Your Child Might Be Getting Bullied' #moms #dads http://t.co/vsfXkHD #parenting #kids</td>\n",
       "      <td>n</td>\n",
       "    </tr>\n",
       "    <tr>\n",
       "      <th>13</th>\n",
       "      <td>100689407677440000</td>\n",
       "      <td>WED at 8pm on #LETITBEKNOWNLIVERADIO our Discussion \"Violence among the YOUTH PT 2..... Bullying, Gang Violenc… (cont) http://deck.ly/~ZN88q</td>\n",
       "      <td>n</td>\n",
       "    </tr>\n",
       "    <tr>\n",
       "      <th>15</th>\n",
       "      <td>103502694634889216</td>\n",
       "      <td>@BillyBlancO_ @DjLBully nigga used to be a real herbalist bully idk wham ah deal with</td>\n",
       "      <td>n</td>\n",
       "    </tr>\n",
       "    <tr>\n",
       "      <th>16</th>\n",
       "      <td>104295456787533824</td>\n",
       "      <td>Georgetown got there asses kicked but china.. Bull got cleaned up with a chair</td>\n",
       "      <td>n</td>\n",
       "    </tr>\n",
       "    <tr>\n",
       "      <th>17</th>\n",
       "      <td>104940761937743874</td>\n",
       "      <td>@samGarvaux  Mostly I agree with @Shoq.  Having strong opinions does not make one a bully. Just passionate.</td>\n",
       "      <td>n</td>\n",
       "    </tr>\n",
       "    <tr>\n",
       "      <th>18</th>\n",
       "      <td>103158825590329344</td>\n",
       "      <td>I entered an AMZN 175/165 bull put spread for September. I am looking for 195 to go further long calls.</td>\n",
       "      <td>n</td>\n",
       "    </tr>\n",
       "    <tr>\n",
       "      <th>19</th>\n",
       "      <td>109034091743154176</td>\n",
       "      <td>@Looweihao @haoyangg @sleepybed Hello, since when i got bully people? Never physically you know! :( Criminal is not supposed to be me..</td>\n",
       "      <td>n</td>\n",
       "    </tr>\n",
       "    <tr>\n",
       "      <th>21</th>\n",
       "      <td>100976790876602368</td>\n",
       "      <td>http://t.co/XHtRPSc @planetjedward anti-bullying campaign</td>\n",
       "      <td>n</td>\n",
       "    </tr>\n",
       "    <tr>\n",
       "      <th>22</th>\n",
       "      <td>106840582453870592</td>\n",
       "      <td>@bbuk @brianofficial bobby needs threw out that is disgusting #sweatgate #bully</td>\n",
       "      <td>n</td>\n",
       "    </tr>\n",
       "    <tr>\n",
       "      <th>23</th>\n",
       "      <td>101677159214612480</td>\n",
       "      <td>Stop Bullying Ppl Old America</td>\n",
       "      <td>n</td>\n",
       "    </tr>\n",
       "    <tr>\n",
       "      <th>24</th>\n",
       "      <td>100994011858354176</td>\n",
       "      <td>Three bully vans just went past Candace's Lewisham riots are starting again lordddddd</td>\n",
       "      <td>n</td>\n",
       "    </tr>\n",
       "    <tr>\n",
       "      <th>25</th>\n",
       "      <td>108219316192817152</td>\n",
       "      <td>In high school, it's bullying. But in a professional setting, it's harassment.</td>\n",
       "      <td>n</td>\n",
       "    </tr>\n",
       "    <tr>\n",
       "      <th>26</th>\n",
       "      <td>108154819906240512</td>\n",
       "      <td>News from PrayerThatHeals.org - A spiritual defense against bullying http://t.co/wkmbwMA #constantcontact</td>\n",
       "      <td>n</td>\n",
       "    </tr>\n",
       "    <tr>\n",
       "      <th>29</th>\n",
       "      <td>107478741424414720</td>\n",
       "      <td>http://t.co/nbBZDxf Please help to stop workplace bullying</td>\n",
       "      <td>n</td>\n",
       "    </tr>\n",
       "  </tbody>\n",
       "</table>\n",
       "</div>"
      ],
      "text/plain": [
       "              tweet_id  \\\n",
       "1   100254756332769280   \n",
       "4   106150056868061184   \n",
       "6   104199536133668864   \n",
       "7   103471384973418497   \n",
       "8   101884602586636288   \n",
       "11  102779484725448704   \n",
       "12  104826899435491328   \n",
       "13  100689407677440000   \n",
       "15  103502694634889216   \n",
       "16  104295456787533824   \n",
       "17  104940761937743874   \n",
       "18  103158825590329344   \n",
       "19  109034091743154176   \n",
       "21  100976790876602368   \n",
       "22  106840582453870592   \n",
       "23  101677159214612480   \n",
       "24  100994011858354176   \n",
       "25  108219316192817152   \n",
       "26  108154819906240512   \n",
       "29  107478741424414720   \n",
       "\n",
       "                                                                                                                                           tweet  \\\n",
       "1   Paula, Kiersten and LJ's song about bullying. Great job! (Uploading more videos now.) http://fb.me/ASIm1gw1                                    \n",
       "4   If I'm not happy with my classes this week, I'm gonna take the role as a bully and be an asshole. Watch out lower-classmen. It will be ugly.   \n",
       "6   @ninjacodemonkey totally.  on one hand the retaliatory nature is pissy, on the other is great to see that bully-stick smackdown.               \n",
       "7   @lucy_robbo yes on thur, she said she might, we'll bully in revs. I dunno I have no friends hahaha                                             \n",
       "8   theres going to be bullys and ignorant people out there thats goi to spread lies about u or bully u,well DONT let it get u down                \n",
       "11  The Bully at School Goes High Tech – Part 1: \\nThe Section of State and Local Government Law of the Am... http://t.co/DGWXoKd #slaw #law       \n",
       "12  Follow-Up to ' Signs Your Child Might Be Getting Bullied' #moms #dads http://t.co/vsfXkHD #parenting #kids                                     \n",
       "13  WED at 8pm on #LETITBEKNOWNLIVERADIO our Discussion \"Violence among the YOUTH PT 2..... Bullying, Gang Violenc… (cont) http://deck.ly/~ZN88q   \n",
       "15  @BillyBlancO_ @DjLBully nigga used to be a real herbalist bully idk wham ah deal with                                                          \n",
       "16  Georgetown got there asses kicked but china.. Bull got cleaned up with a chair                                                                 \n",
       "17  @samGarvaux  Mostly I agree with @Shoq.  Having strong opinions does not make one a bully. Just passionate.                                    \n",
       "18  I entered an AMZN 175/165 bull put spread for September. I am looking for 195 to go further long calls.                                        \n",
       "19  @Looweihao @haoyangg @sleepybed Hello, since when i got bully people? Never physically you know! :( Criminal is not supposed to be me..        \n",
       "21  http://t.co/XHtRPSc @planetjedward anti-bullying campaign                                                                                      \n",
       "22  @bbuk @brianofficial bobby needs threw out that is disgusting #sweatgate #bully                                                                \n",
       "23  Stop Bullying Ppl Old America                                                                                                                  \n",
       "24  Three bully vans just went past Candace's Lewisham riots are starting again lordddddd                                                          \n",
       "25  In high school, it's bullying. But in a professional setting, it's harassment.                                                                 \n",
       "26  News from PrayerThatHeals.org - A spiritual defense against bullying http://t.co/wkmbwMA #constantcontact                                      \n",
       "29  http://t.co/nbBZDxf Please help to stop workplace bullying                                                                                     \n",
       "\n",
       "   flag  \n",
       "1   n    \n",
       "4   n    \n",
       "6   n    \n",
       "7   n    \n",
       "8   n    \n",
       "11  n    \n",
       "12  n    \n",
       "13  n    \n",
       "15  n    \n",
       "16  n    \n",
       "17  n    \n",
       "18  n    \n",
       "19  n    \n",
       "21  n    \n",
       "22  n    \n",
       "23  n    \n",
       "24  n    \n",
       "25  n    \n",
       "26  n    \n",
       "29  n    "
      ]
     },
     "execution_count": 4,
     "metadata": {},
     "output_type": "execute_result"
    }
   ],
   "source": [
    "noBullyTweets.head(20)"
   ]
  },
  {
   "cell_type": "markdown",
   "metadata": {},
   "source": [
    "## Dictionary Creation\n",
    "Creates a function that uses  alist and empty dictionary to return a dictionary of all the words and their frequencies from the tweets, sorted by their frequencies."
   ]
  },
  {
   "cell_type": "code",
   "execution_count": 5,
   "metadata": {
    "scrolled": true
   },
   "outputs": [
    {
     "data": {
      "text/plain": [
       "(False, None)"
      ]
     },
     "execution_count": 5,
     "metadata": {},
     "output_type": "execute_result"
    }
   ],
   "source": [
    "# supporting functions\n",
    "\n",
    "def tokenize(text):\n",
    "    tokens = [i.strip() for i in text if i not in string.punctuation if i not in emoji.UNICODE_EMOJI]\n",
    "    return \"\".join(tokens)\n",
    "\n",
    "stopwordSet = set(stopwords.words(\"english\"))\n",
    "def word_filter(word):\n",
    "    # strip\n",
    "    word = word.strip().lower()\n",
    "    word = tokenize(word.strip(string.punctuation))\n",
    "    if word == \"\":\n",
    "        return False, None\n",
    "    # get rid of mentions (@USERNAME)\n",
    "    if word[0] == \"@\":\n",
    "        return False, None\n",
    "    \n",
    "    # get rid of stopwords\n",
    "    elif (word in stopwordSet):\n",
    "        return False, None\n",
    "    \n",
    "    # get rid of emojis\n",
    "    elif word in emoji.UNICODE_EMOJI:\n",
    "        return False, None\n",
    "    return True, word\n",
    "\n",
    "word_filter(\"'it'\")"
   ]
  },
  {
   "cell_type": "markdown",
   "metadata": {},
   "source": [
    "~~~"
   ]
  },
  {
   "cell_type": "code",
   "execution_count": 6,
   "metadata": {
    "scrolled": true
   },
   "outputs": [],
   "source": [
    "def dictionary_creation(tweetLst, bullyVocab):\n",
    "    for tweet in tweetLst:\n",
    "        for word in tweet.split():\n",
    "            flag, resultWord = word_filter(word)\n",
    "\n",
    "            if flag:\n",
    "                if(resultWord == \"it\"):\n",
    "                    print(flag, resultWord)\n",
    "                # check if in bullyVocab\n",
    "                if resultWord in bullyVocab:\n",
    "                    bullyVocab[resultWord] += 1\n",
    "                else:\n",
    "                    bullyVocab[resultWord] = 1\n",
    "    bullyVocab = sorted(bullyVocab.items(), key = lambda kv: kv[1], reverse = True)\n",
    "    return bullyVocab"
   ]
  },
  {
   "cell_type": "code",
   "execution_count": 7,
   "metadata": {
    "scrolled": true
   },
   "outputs": [],
   "source": [
    "def bar_graph(bullyVocab, number):\n",
    "    # create a bar graph of the bullyVocab data\n",
    "    words = [i[0] for i in bullyVocab if not i[0] == \"\"]\n",
    "    topNWords = words[:number]\n",
    "\n",
    "    y_pos = np.arange(len(topNWords))\n",
    "    frequency = [i[1] for i in bullyVocab if not i[0] == \"\"]\n",
    "    topNFrequency = frequency[:number]\n",
    "    \n",
    "    plt.figure(figsize = (15, 7))\n",
    "\n",
    "    plt.bar(y_pos, topNFrequency, align = 'center')\n",
    "    plt.xticks(y_pos, topNWords)\n",
    "    plt.xticks(rotation = 50)\n",
    "    plt.xlabel(\"Word\")\n",
    "    plt.ylabel(\"Frequency\")\n",
    "    plt.show()"
   ]
  },
  {
   "cell_type": "code",
   "execution_count": 8,
   "metadata": {},
   "outputs": [
    {
     "data": {
      "image/png": "[encoded data removed]",
      "text/plain": [
       "<Figure size 1080x504 with 1 Axes>"
      ]
     },
     "metadata": {
      "needs_background": "light"
     },
     "output_type": "display_data"
    }
   ],
   "source": [
    "bullyTweetLst = bullyTweets[\"tweet\"].tolist()\n",
    "\n",
    "bullyVocab = {}\n",
    "dictionary_creation(bullyTweetLst, bullyVocab)\n",
    "\n",
    "# sort the dictionary by the words with the highest frequency                \n",
    "bullyVocab = sorted(bullyVocab.items(), key = lambda kv: kv[1], reverse = True)\n",
    "\n",
    "bar_graph(bullyVocab, 50)"
   ]
  },
  {
   "cell_type": "markdown",
   "metadata": {},
   "source": [
    "## Word Clouds\n",
    "\n",
    "Generating wordclouds based on frequencies!"
   ]
  },
  {
   "cell_type": "code",
   "execution_count": 9,
   "metadata": {},
   "outputs": [
    {
     "data": {
      "image/png": "[encoded data removed]",
      "text/plain": [
       "<Figure size 576x576 with 1 Axes>"
      ]
     },
     "metadata": {
      "needs_background": "light"
     },
     "output_type": "display_data"
    }
   ],
   "source": [
    "comment_words = \" \"\n",
    "comment_words2 = \" \"\n",
    "\n",
    "def generate_wordcloud(tweets, comment_words, fontsize):\n",
    "    for val in tweets.tweet:\n",
    "        val = str(val)\n",
    "        words = val.split()\n",
    "        for i in range(len(words)):\n",
    "            words[i] = words[i].lower()\n",
    "            \n",
    "        for word in words:\n",
    "            comment_words = comment_words + word + \" \"\n",
    "            \n",
    "    # actual cloud\n",
    "    wordcloud = WordCloud(width = 800, height = 800, background_color = 'white',\n",
    "                          stopwords = set(STOPWORDS), min_font_size = fontsize).generate(comment_words)\n",
    "\n",
    "    plt.figure(figsize = (8, 8), facecolor = None)\n",
    "    plt.imshow(wordcloud)\n",
    "    plt.axis(\"off\")\n",
    "    plt.tight_layout(pad = 0.5)\n",
    "    plt.show()\n",
    "\n",
    "generate_wordcloud(bullyTweets, comment_words, 20)\n",
    "\n",
    "# generate_wordcloud(noBullyTweets, comment_words2, 20)"
   ]
  },
  {
   "cell_type": "code",
   "execution_count": 10,
   "metadata": {
    "scrolled": true
   },
   "outputs": [],
   "source": [
    "def img_wordcloud(tweets, image, comment_words):\n",
    "    mask = np.array(open(image))\n",
    "    wordcloud = Wordcloud(stopwords = stopwords, background_color = \"white\", mode = \"RGBA\",\n",
    "                         max_words = 1000, mask = mask).generate(tweets)\n",
    "    \n",
    "    # colors\n",
    "    image_colors = ImageColorGenerator(mask)\n",
    "    plt.figure(figsize = [8, 8])\n",
    "    plt.imshow(wordcloud_usa.recolor(color_func=image_colors), interpolation = \"bilinear\")\n",
    "    plt.axis(\"off\")\n",
    "    \n",
    "    plt.show()\n",
    "    \n",
    "#img_wordcloud(bullyTweets, \"![image.png](attachment:image.png)\", comment_words)\n"
   ]
  },
  {
   "cell_type": "code",
   "execution_count": 11,
   "metadata": {},
   "outputs": [
    {
     "data": {
      "text/plain": [
       "pandas.core.frame.DataFrame"
      ]
     },
     "execution_count": 11,
     "metadata": {},
     "output_type": "execute_result"
    }
   ],
   "source": [
    "input_data = allTweets\n",
    "label_data = allTweets['flag'] \n",
    "target = np.array(label_data)\n",
    "\n",
    "type(input_data)"
   ]
  },
  {
   "cell_type": "code",
   "execution_count": 12,
   "metadata": {},
   "outputs": [],
   "source": [
    "indices = np.random.permutation(allTweets.shape[0])\n",
    "ninety = int(.90 * len(indices))\n",
    "training_idx, test_idx = indices[:ninety], indices[ninety:]\n",
    "\n",
    "training, test = input_data.loc[training_idx,\"tweet\":\"flag\"], input_data.loc[test_idx,\"tweet\":\"flag\"]\n",
    "\n",
    "training_data = training['tweet'].tolist()\n",
    "training_label= training['flag']\n",
    "\n",
    "test_data = test['tweet'].tolist()\n",
    "test_label= test['flag'].tolist()"
   ]
  },
  {
   "cell_type": "code",
   "execution_count": 13,
   "metadata": {},
   "outputs": [
    {
     "data": {
      "text/plain": [
       "(2469, 7744)"
      ]
     },
     "execution_count": 13,
     "metadata": {},
     "output_type": "execute_result"
    }
   ],
   "source": [
    "from sklearn.feature_extraction.text import CountVectorizer\n",
    "count_vect = CountVectorizer()\n",
    "X_train_counts = count_vect.fit_transform(training_data)\n",
    "X_train_counts.shape"
   ]
  },
  {
   "cell_type": "code",
   "execution_count": 14,
   "metadata": {},
   "outputs": [
    {
     "data": {
      "text/plain": [
       "(2469, 7744)"
      ]
     },
     "execution_count": 14,
     "metadata": {},
     "output_type": "execute_result"
    }
   ],
   "source": [
    "from sklearn.feature_extraction.text import TfidfTransformer\n",
    "tfidf_transformer = TfidfTransformer()\n",
    "X_train_tfidf = tfidf_transformer.fit_transform(X_train_counts)\n",
    "X_train_tfidf.shape"
   ]
  },
  {
   "cell_type": "code",
   "execution_count": 15,
   "metadata": {},
   "outputs": [],
   "source": [
    "# Machine Learning\n",
    "# Training Naive Bayes (NB) classifier on training data.\n",
    "from sklearn.naive_bayes import MultinomialNB\n",
    "clf = MultinomialNB().fit(X_train_tfidf, training_label)"
   ]
  },
  {
   "cell_type": "code",
   "execution_count": 16,
   "metadata": {},
   "outputs": [
    {
     "data": {
      "text/plain": [
       "0.72"
      ]
     },
     "execution_count": 16,
     "metadata": {},
     "output_type": "execute_result"
    }
   ],
   "source": [
    "# Building a pipeline: We can write less code and do all of the above, by building a pipeline as follows:\n",
    "# The names ‘vect’ , ‘tfidf’ and ‘clf’ are arbitrary but will be used later.\n",
    "# We will be using the 'text_clf' going forward.\n",
    "from sklearn.pipeline import Pipeline\n",
    "\n",
    "text_clf = Pipeline([('vect', CountVectorizer()), ('tfidf', TfidfTransformer()), ('clf', MultinomialNB())])\n",
    "text_clf = text_clf.fit(training_data, training_label)\n",
    "# Performance of NB Classifier\n",
    "predicted = text_clf.predict(test_data)\n",
    "np.mean(predicted == test_label)"
   ]
  },
  {
   "cell_type": "code",
   "execution_count": 17,
   "metadata": {},
   "outputs": [
    {
     "data": {
      "text/plain": [
       "{'clf__alpha': 0.01, 'tfidf__use_idf': False, 'vect__ngram_range': (1, 2)}"
      ]
     },
     "execution_count": 17,
     "metadata": {},
     "output_type": "execute_result"
    }
   ],
   "source": [
    "#find the best paramters \n",
    "from sklearn.model_selection import GridSearchCV\n",
    "parameters = {'vect__ngram_range': [(1, 1), (1, 2), (1, 3)], 'tfidf__use_idf': (True, False), 'clf__alpha': (1e-2, 1e-3)}\n",
    "\n",
    "gs_clf = GridSearchCV(text_clf, parameters, n_jobs=-1)\n",
    "gs_clf = gs_clf.fit(training_data, training_label)\n",
    "gs_clf.best_score_\n",
    "gs_clf.best_params_"
   ]
  },
  {
   "cell_type": "code",
   "execution_count": 20,
   "metadata": {},
   "outputs": [
    {
     "data": {
      "text/plain": [
       "0.7236363636363636"
      ]
     },
     "execution_count": 20,
     "metadata": {},
     "output_type": "execute_result"
    }
   ],
   "source": [
    "# Performance of NB Classifier\n",
    "text_clf = Pipeline([('vect', CountVectorizer(ngram_range=(1, 2))), ('tfidf', TfidfTransformer(use_idf=False)), ('clf', MultinomialNB(alpha=1e-2))])\n",
    "text_clf = text_clf.fit(training_data, training_label)\n",
    "# Performance of NB Classifier\n",
    "predicted = text_clf.predict(test_data)\n",
    "np.mean(predicted == test_label)"
   ]
  },
  {
   "cell_type": "code",
   "execution_count": 21,
   "metadata": {},
   "outputs": [
    {
     "data": {
      "text/plain": [
       "0.7418181818181818"
      ]
     },
     "execution_count": 21,
     "metadata": {},
     "output_type": "execute_result"
    }
   ],
   "source": [
    "# Training Support Vector Machines - SVM and calculating its performance\n",
    "from sklearn.linear_model import SGDClassifier\n",
    "text_clf_svm = Pipeline([('vect', CountVectorizer()), ('tfidf', TfidfTransformer()),\n",
    "                         ('clf-svm', SGDClassifier(loss='hinge', penalty='l2',alpha=1e-3, max_iter=1000, tol = 0.19, random_state=42))])\n",
    "\n",
    "text_clf_svm = text_clf_svm.fit(training_data, training_label)\n",
    "predicted_svm = text_clf_svm.predict(test_data)\n",
    "np.mean(predicted_svm == test_label)"
   ]
  },
  {
   "cell_type": "code",
   "execution_count": 22,
   "metadata": {},
   "outputs": [
    {
     "data": {
      "text/plain": [
       "{'clf-svm__alpha': 0.001, 'tfidf__use_idf': True, 'vect__ngram_range': (1, 2)}"
      ]
     },
     "execution_count": 22,
     "metadata": {},
     "output_type": "execute_result"
    }
   ],
   "source": [
    "from sklearn.model_selection import GridSearchCV\n",
    "parameters_svm = {'vect__ngram_range': [(1, 1), (1, 2),(1, 3)], 'tfidf__use_idf': (True, False),'clf-svm__alpha': (1e-2, 1e-3)}\n",
    "\n",
    "gs_clf_svm = GridSearchCV(text_clf_svm, parameters_svm, n_jobs=-1)\n",
    "gs_clf_svm = gs_clf_svm.fit(training_data, training_label)\n",
    "gs_clf_svm.best_score_\n",
    "gs_clf_svm.best_params_"
   ]
  },
  {
   "cell_type": "code",
   "execution_count": 23,
   "metadata": {},
   "outputs": [
    {
     "data": {
      "text/plain": [
       "0.7345454545454545"
      ]
     },
     "execution_count": 23,
     "metadata": {},
     "output_type": "execute_result"
    }
   ],
   "source": [
    "text_clf_svm = Pipeline([('vect', CountVectorizer(ngram_range=(1, 2))), ('tfidf', TfidfTransformer(use_idf= True)),\n",
    "                         ('clf-svm', SGDClassifier(loss='hinge', penalty='l2',alpha=1e-3, max_iter=1000, tol = 0.19, random_state=42))])\n",
    "\n",
    "text_clf_svm = text_clf_svm.fit(training_data, training_label)\n",
    "predicted_svm = text_clf_svm.predict(test_data)\n",
    "np.mean(predicted_svm == test_label)"
   ]
  },
  {
   "cell_type": "code",
   "execution_count": 29,
   "metadata": {},
   "outputs": [
    {
     "ename": "ValueError",
     "evalue": "could not convert string to float: 'n'",
     "output_type": "error",
     "traceback": [
      "\u001b[0;31m---------------------------------------------------------------------------\u001b[0m",
      "\u001b[0;31mValueError\u001b[0m                                Traceback (most recent call last)",
      "\u001b[0;32m<ipython-input-29-2aa38f54b616>\u001b[0m in \u001b[0;36m<module>\u001b[0;34m\u001b[0m\n\u001b[1;32m      2\u001b[0m \u001b[0;34m\u001b[0m\u001b[0m\n\u001b[1;32m      3\u001b[0m \u001b[0mtext_lr\u001b[0m \u001b[0;34m=\u001b[0m \u001b[0mPipeline\u001b[0m\u001b[0;34m(\u001b[0m\u001b[0;34m[\u001b[0m\u001b[0;34m(\u001b[0m\u001b[0;34m'vect'\u001b[0m\u001b[0;34m,\u001b[0m \u001b[0mCountVectorizer\u001b[0m\u001b[0;34m(\u001b[0m\u001b[0;34m)\u001b[0m\u001b[0;34m)\u001b[0m\u001b[0;34m,\u001b[0m \u001b[0;34m(\u001b[0m\u001b[0;34m'tfidf'\u001b[0m\u001b[0;34m,\u001b[0m \u001b[0mTfidfTransformer\u001b[0m\u001b[0;34m(\u001b[0m\u001b[0;34m)\u001b[0m\u001b[0;34m)\u001b[0m\u001b[0;34m,\u001b[0m \u001b[0;34m(\u001b[0m\u001b[0;34m'lr'\u001b[0m\u001b[0;34m,\u001b[0m \u001b[0mLinearRegression\u001b[0m\u001b[0;34m(\u001b[0m\u001b[0;34m)\u001b[0m\u001b[0;34m)\u001b[0m\u001b[0;34m]\u001b[0m\u001b[0;34m)\u001b[0m\u001b[0;34m\u001b[0m\u001b[0;34m\u001b[0m\u001b[0m\n\u001b[0;32m----> 4\u001b[0;31m \u001b[0mtext_lr\u001b[0m \u001b[0;34m=\u001b[0m \u001b[0mtext_lr\u001b[0m\u001b[0;34m.\u001b[0m\u001b[0mfit\u001b[0m\u001b[0;34m(\u001b[0m\u001b[0mtraining_data\u001b[0m\u001b[0;34m,\u001b[0m \u001b[0mtraining_label\u001b[0m\u001b[0;34m)\u001b[0m\u001b[0;34m\u001b[0m\u001b[0;34m\u001b[0m\u001b[0m\n\u001b[0m\u001b[1;32m      5\u001b[0m \u001b[0;31m# Performance of NB Classifier\u001b[0m\u001b[0;34m\u001b[0m\u001b[0;34m\u001b[0m\u001b[0;34m\u001b[0m\u001b[0m\n\u001b[1;32m      6\u001b[0m \u001b[0mpredicted\u001b[0m \u001b[0;34m=\u001b[0m \u001b[0mtext_lr\u001b[0m\u001b[0;34m.\u001b[0m\u001b[0mpredict\u001b[0m\u001b[0;34m(\u001b[0m\u001b[0mtest_data\u001b[0m\u001b[0;34m)\u001b[0m\u001b[0;34m\u001b[0m\u001b[0;34m\u001b[0m\u001b[0m\n",
      "\u001b[0;32m~/melody/linguistics/venv/lib/python3.7/site-packages/sklearn/pipeline.py\u001b[0m in \u001b[0;36mfit\u001b[0;34m(self, X, y, **fit_params)\u001b[0m\n\u001b[1;32m    350\u001b[0m                                  self._log_message(len(self.steps) - 1)):\n\u001b[1;32m    351\u001b[0m             \u001b[0;32mif\u001b[0m \u001b[0mself\u001b[0m\u001b[0;34m.\u001b[0m\u001b[0m_final_estimator\u001b[0m \u001b[0;34m!=\u001b[0m \u001b[0;34m'passthrough'\u001b[0m\u001b[0;34m:\u001b[0m\u001b[0;34m\u001b[0m\u001b[0;34m\u001b[0m\u001b[0m\n\u001b[0;32m--> 352\u001b[0;31m                 \u001b[0mself\u001b[0m\u001b[0;34m.\u001b[0m\u001b[0m_final_estimator\u001b[0m\u001b[0;34m.\u001b[0m\u001b[0mfit\u001b[0m\u001b[0;34m(\u001b[0m\u001b[0mXt\u001b[0m\u001b[0;34m,\u001b[0m \u001b[0my\u001b[0m\u001b[0;34m,\u001b[0m \u001b[0;34m**\u001b[0m\u001b[0mfit_params\u001b[0m\u001b[0;34m)\u001b[0m\u001b[0;34m\u001b[0m\u001b[0;34m\u001b[0m\u001b[0m\n\u001b[0m\u001b[1;32m    353\u001b[0m         \u001b[0;32mreturn\u001b[0m \u001b[0mself\u001b[0m\u001b[0;34m\u001b[0m\u001b[0;34m\u001b[0m\u001b[0m\n\u001b[1;32m    354\u001b[0m \u001b[0;34m\u001b[0m\u001b[0m\n",
      "\u001b[0;32m~/melody/linguistics/venv/lib/python3.7/site-packages/sklearn/linear_model/_base.py\u001b[0m in \u001b[0;36mfit\u001b[0;34m(self, X, y, sample_weight)\u001b[0m\n\u001b[1;32m    490\u001b[0m         \u001b[0mn_jobs_\u001b[0m \u001b[0;34m=\u001b[0m \u001b[0mself\u001b[0m\u001b[0;34m.\u001b[0m\u001b[0mn_jobs\u001b[0m\u001b[0;34m\u001b[0m\u001b[0;34m\u001b[0m\u001b[0m\n\u001b[1;32m    491\u001b[0m         X, y = check_X_y(X, y, accept_sparse=['csr', 'csc', 'coo'],\n\u001b[0;32m--> 492\u001b[0;31m                          y_numeric=True, multi_output=True)\n\u001b[0m\u001b[1;32m    493\u001b[0m \u001b[0;34m\u001b[0m\u001b[0m\n\u001b[1;32m    494\u001b[0m         \u001b[0;32mif\u001b[0m \u001b[0msample_weight\u001b[0m \u001b[0;32mis\u001b[0m \u001b[0;32mnot\u001b[0m \u001b[0;32mNone\u001b[0m\u001b[0;34m:\u001b[0m\u001b[0;34m\u001b[0m\u001b[0;34m\u001b[0m\u001b[0m\n",
      "\u001b[0;32m~/melody/linguistics/venv/lib/python3.7/site-packages/sklearn/utils/validation.py\u001b[0m in \u001b[0;36mcheck_X_y\u001b[0;34m(X, y, accept_sparse, accept_large_sparse, dtype, order, copy, force_all_finite, ensure_2d, allow_nd, multi_output, ensure_min_samples, ensure_min_features, y_numeric, warn_on_dtype, estimator)\u001b[0m\n\u001b[1;32m    745\u001b[0m         \u001b[0m_assert_all_finite\u001b[0m\u001b[0;34m(\u001b[0m\u001b[0my\u001b[0m\u001b[0;34m)\u001b[0m\u001b[0;34m\u001b[0m\u001b[0;34m\u001b[0m\u001b[0m\n\u001b[1;32m    746\u001b[0m     \u001b[0;32mif\u001b[0m \u001b[0my_numeric\u001b[0m \u001b[0;32mand\u001b[0m \u001b[0my\u001b[0m\u001b[0;34m.\u001b[0m\u001b[0mdtype\u001b[0m\u001b[0;34m.\u001b[0m\u001b[0mkind\u001b[0m \u001b[0;34m==\u001b[0m \u001b[0;34m'O'\u001b[0m\u001b[0;34m:\u001b[0m\u001b[0;34m\u001b[0m\u001b[0;34m\u001b[0m\u001b[0m\n\u001b[0;32m--> 747\u001b[0;31m         \u001b[0my\u001b[0m \u001b[0;34m=\u001b[0m \u001b[0my\u001b[0m\u001b[0;34m.\u001b[0m\u001b[0mastype\u001b[0m\u001b[0;34m(\u001b[0m\u001b[0mnp\u001b[0m\u001b[0;34m.\u001b[0m\u001b[0mfloat64\u001b[0m\u001b[0;34m)\u001b[0m\u001b[0;34m\u001b[0m\u001b[0;34m\u001b[0m\u001b[0m\n\u001b[0m\u001b[1;32m    748\u001b[0m \u001b[0;34m\u001b[0m\u001b[0m\n\u001b[1;32m    749\u001b[0m     \u001b[0mcheck_consistent_length\u001b[0m\u001b[0;34m(\u001b[0m\u001b[0mX\u001b[0m\u001b[0;34m,\u001b[0m \u001b[0my\u001b[0m\u001b[0;34m)\u001b[0m\u001b[0;34m\u001b[0m\u001b[0;34m\u001b[0m\u001b[0m\n",
      "\u001b[0;31mValueError\u001b[0m: could not convert string to float: 'n'"
     ]
    }
   ],
   "source": [
    "from sklearn.linear_model import LinearRegression\n",
    "\n",
    "text_lr = Pipeline([('vect', CountVectorizer()), ('tfidf', TfidfTransformer()), ('lr', LinearRegression())])\n",
    "text_lr = text_lr.fit(training_data, training_label)\n",
    " \n",
    "predicted = text_lr.predict(test_data)\n",
    "np.mean(predicted == test_label)"
   ]
  },
  {
   "cell_type": "code",
   "execution_count": null,
   "metadata": {},
   "outputs": [],
   "source": []
  }
 ],
 "metadata": {
  "kernelspec": {
   "display_name": "Python 3",
   "language": "python",
   "name": "python3"
  },
  "language_info": {
   "codemirror_mode": {
    "name": "ipython",
    "version": 3
   },
   "file_extension": ".py",
   "mimetype": "text/x-python",
   "name": "python",
   "nbconvert_exporter": "python",
   "pygments_lexer": "ipython3",
   "version": "3.7.3"
  }
 },
 "nbformat": 4,
 "nbformat_minor": 2
}
